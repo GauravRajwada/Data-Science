{
 "cells": [
  {
   "cell_type": "markdown",
   "metadata": {},
   "source": [
    "# Testing dataset"
   ]
  },
  {
   "cell_type": "markdown",
   "metadata": {},
   "source": [
    "## Importing library"
   ]
  },
  {
   "cell_type": "code",
   "execution_count": 1,
   "metadata": {},
   "outputs": [],
   "source": [
    "import pandas as pd\n",
    "import numpy as np\n",
    "import matplotlib.pyplot as plt\n",
    "from sklearn.preprocessing import MinMaxScaler,StandardScaler"
   ]
  },
  {
   "cell_type": "markdown",
   "metadata": {},
   "source": [
    "## Loading datasets"
   ]
  },
  {
   "cell_type": "code",
   "execution_count": 2,
   "metadata": {},
   "outputs": [],
   "source": [
    "df=pd.read_csv(\"E:/Kaggel compitiion/House Prices Advanced Regression Techniques/test.csv\")"
   ]
  },
  {
   "cell_type": "markdown",
   "metadata": {},
   "source": [
    "## Missing Values"
   ]
  },
  {
   "cell_type": "code",
   "execution_count": 3,
   "metadata": {},
   "outputs": [
    {
     "name": "stdout",
     "output_type": "stream",
     "text": [
      "MSZoning 0.0027\n",
      "Alley 0.9267\n",
      "Utilities 0.0014\n",
      "MasVnrType 0.011\n",
      "BsmtQual 0.0302\n",
      "BsmtCond 0.0308\n",
      "BsmtExposure 0.0302\n",
      "BsmtFinType1 0.0288\n",
      "BsmtFinType2 0.0288\n",
      "Functional 0.0014\n",
      "FireplaceQu 0.5003\n",
      "GarageType 0.0521\n",
      "GarageFinish 0.0535\n",
      "GarageQual 0.0535\n",
      "GarageCond 0.0535\n",
      "PoolQC 0.9979\n",
      "Fence 0.8012\n",
      "MiscFeature 0.965\n"
     ]
    }
   ],
   "source": [
    "# Missing values in categorical features\n",
    "missing_features=[i for i in df.columns if df[i].isnull().sum()>1 and df[i].dtype=='O']\n",
    "for i in missing_features:\n",
    "    print(i,np.round(df[i].isnull().mean(),4))\n"
   ]
  },
  {
   "cell_type": "code",
   "execution_count": 4,
   "metadata": {},
   "outputs": [
    {
     "name": "stdout",
     "output_type": "stream",
     "text": [
      "MSZoning        0\n",
      "Alley           0\n",
      "Utilities       0\n",
      "MasVnrType      0\n",
      "BsmtQual        0\n",
      "BsmtCond        0\n",
      "BsmtExposure    0\n",
      "BsmtFinType1    0\n",
      "BsmtFinType2    0\n",
      "Functional      0\n",
      "FireplaceQu     0\n",
      "GarageType      0\n",
      "GarageFinish    0\n",
      "GarageQual      0\n",
      "GarageCond      0\n",
      "PoolQC          0\n",
      "Fence           0\n",
      "MiscFeature     0\n",
      "dtype: int64\n"
     ]
    }
   ],
   "source": [
    "# Replacing Missing value with new label\n",
    "def fillNa(df,missing_features):\n",
    "    data=df.copy()\n",
    "    data[missing_features]=data[missing_features].fillna(\"Missing\")\n",
    "    return data\n",
    "df=fillNa(df,missing_features)\n",
    "print(df[missing_features].isnull().sum())"
   ]
  },
  {
   "cell_type": "code",
   "execution_count": 5,
   "metadata": {},
   "outputs": [
    {
     "name": "stdout",
     "output_type": "stream",
     "text": [
      "LotFrontage 0.1556\n",
      "MasVnrArea 0.0103\n",
      "BsmtFullBath 0.0014\n",
      "BsmtHalfBath 0.0014\n",
      "GarageYrBlt 0.0535\n"
     ]
    }
   ],
   "source": [
    "#Missing values in numerical variable\n",
    "missing_features1=[i for i in df.columns if df[i].isnull().sum()>1 and df[i].dtype!='O']\n",
    "for i in missing_features1:\n",
    "    print(i,np.round(df[i].isnull().mean(),4))"
   ]
  },
  {
   "cell_type": "code",
   "execution_count": 6,
   "metadata": {},
   "outputs": [
    {
     "data": {
      "text/plain": [
       "LotFrontage     0\n",
       "MasVnrArea      0\n",
       "BsmtFullBath    0\n",
       "BsmtHalfBath    0\n",
       "GarageYrBlt     0\n",
       "dtype: int64"
      ]
     },
     "execution_count": 6,
     "metadata": {},
     "output_type": "execute_result"
    }
   ],
   "source": [
    "# Now we will replace missing value in numerical by median because some values are very large\n",
    "# And creating new feature if missing then 1 else 0\n",
    "for i in missing_features1:\n",
    "    med=df[i].median()\n",
    "    #Creatiing new feature \n",
    "    df[i+\"Nan\"]=np.where(df[i].isnull(),1,0)\n",
    "    #Filling missing value with median\n",
    "    df[i].fillna(med,inplace=True)\n",
    "    \n",
    "df[missing_features1].isnull().sum()"
   ]
  },
  {
   "cell_type": "markdown",
   "metadata": {},
   "source": [
    "## Converting year to how many year"
   ]
  },
  {
   "cell_type": "code",
   "execution_count": 7,
   "metadata": {},
   "outputs": [],
   "source": [
    "yr_features=[\"GarageYrBlt\",\"YearRemodAdd\",\"YearBuilt\"]\n",
    "for i in yr_features:\n",
    "        df[i]=df['YrSold']-df[i]"
   ]
  },
  {
   "cell_type": "markdown",
   "metadata": {},
   "source": [
    "## Appling gaussian distribution"
   ]
  },
  {
   "cell_type": "code",
   "execution_count": 8,
   "metadata": {},
   "outputs": [],
   "source": [
    "# Appling to them which features do not have 0\n",
    "# numerical_features=[i for i in df.columns if df[i].dtype !=\"O\" if 0 not in df[i].unique()]\n",
    "\n",
    "numerical_features=['LotFrontage', 'LotArea', '1stFlrSF', 'GrLivArea']\n",
    "for i in numerical_features:\n",
    "    df[i]=np.log(df[i])"
   ]
  },
  {
   "cell_type": "markdown",
   "metadata": {},
   "source": [
    "## Handeling Rare categorical Features"
   ]
  },
  {
   "cell_type": "code",
   "execution_count": 9,
   "metadata": {},
   "outputs": [],
   "source": [
    "#In this we skip that categorical featres which has less than 1%  \n",
    "\n",
    "categorical_features=[i for i in df.columns if df[i].dtype ==\"O\" ]\n",
    "for i in categorical_features:\n",
    "    temp=df.groupby(i)[\"Id\"].count()/len(df)\n",
    "    temp_df=temp[temp>0.01].index\n",
    "    df[i]=np.where(df[i].isin(temp_df),df[i],\"Rare_var\")"
   ]
  },
  {
   "cell_type": "markdown",
   "metadata": {},
   "source": [
    "## Label-Encoding"
   ]
  },
  {
   "cell_type": "code",
   "execution_count": 10,
   "metadata": {},
   "outputs": [],
   "source": [
    "#Changing Categorical features\n",
    "for feature in categorical_features:\n",
    "    labels_ordered=df.groupby([feature])['Id'].mean().sort_values().index\n",
    "    labels_ordered={k:i for i,k in enumerate(labels_ordered,0)}\n",
    "    df[feature]=df[feature].map(labels_ordered)"
   ]
  },
  {
   "cell_type": "markdown",
   "metadata": {},
   "source": [
    "## Scaling"
   ]
  },
  {
   "cell_type": "code",
   "execution_count": 11,
   "metadata": {},
   "outputs": [
    {
     "data": {
      "text/plain": [
       "MinMaxScaler(copy=True, feature_range=(0, 1))"
      ]
     },
     "execution_count": 11,
     "metadata": {},
     "output_type": "execute_result"
    }
   ],
   "source": [
    "#Appling scaling either min max scalong or stanfard scaling\n",
    "scale_features=[i for i in df.columns if i not in ['Id']]\n",
    "scale=MinMaxScaler()\n",
    "scale.fit(df[scale_features])"
   ]
  },
  {
   "cell_type": "markdown",
   "metadata": {},
   "source": [
    "## Saving"
   ]
  },
  {
   "cell_type": "code",
   "execution_count": null,
   "metadata": {},
   "outputs": [],
   "source": [
    "#Doing this concat beacuse the scale.transorfm gives array we have to change into dataframe\n",
    "data = pd.concat([df[['Id']].reset_index(drop=True),\n",
    "                    pd.DataFrame(scale.transform(df[scale_features]), columns=scale_features)],\n",
    "                    axis=1)\n",
    "data.to_csv(r'E:/Kaggel compitiion/house-prices-advanced-regression-techniques/After analizing/test.csv',index=False)\n"
   ]
  }
 ],
 "metadata": {
  "kernelspec": {
   "display_name": "Python 3",
   "language": "python",
   "name": "python3"
  },
  "language_info": {
   "codemirror_mode": {
    "name": "ipython",
    "version": 3
   },
   "file_extension": ".py",
   "mimetype": "text/x-python",
   "name": "python",
   "nbconvert_exporter": "python",
   "pygments_lexer": "ipython3",
   "version": "3.7.6"
  }
 },
 "nbformat": 4,
 "nbformat_minor": 4
}
