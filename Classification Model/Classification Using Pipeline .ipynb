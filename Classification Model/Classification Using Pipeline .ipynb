{
 "cells": [
  {
   "cell_type": "markdown",
   "metadata": {},
   "source": [
    "# Classification of Social_Network_Ads.csv\""
   ]
  },
  {
   "cell_type": "markdown",
   "metadata": {},
   "source": [
    "I have used pipeline between Logistic Regression, Decision Tree Classifier, Kernel SVM and more to find the best model for this datasets."
   ]
  },
  {
   "cell_type": "code",
   "execution_count": 1,
   "metadata": {},
   "outputs": [
    {
     "name": "stderr",
     "output_type": "stream",
     "text": [
      "C:\\Users\\sintg\\anaconda3\\lib\\site-packages\\sklearn\\externals\\joblib\\__init__.py:15: FutureWarning: sklearn.externals.joblib is deprecated in 0.21 and will be removed in 0.23. Please import this functionality directly from joblib, which can be installed with: pip install joblib. If this warning is raised when loading pickled models, you may need to re-serialize those models with scikit-learn 0.21+.\n",
      "  warnings.warn(msg, category=FutureWarning)\n"
     ]
    }
   ],
   "source": [
    "#Importing libraries\n",
    "import pandas as pd\n",
    "import numpy as np\n",
    "from sklearn.linear_model import LogisticRegression\n",
    "from sklearn.ensemble import RandomForestClassifier\n",
    "from sklearn.tree import DecisionTreeClassifier\n",
    "from sklearn.neighbors import KNeighborsClassifier\n",
    "from sklearn.naive_bayes import GaussianNB\n",
    "from sklearn.svm import SVC\n",
    "from sklearn.preprocessing import StandardScaler\n",
    "from sklearn.model_selection import train_test_split\n",
    "from sklearn.decomposition import PCA\n",
    "from sklearn.pipeline import Pipeline\n",
    "from sklearn.externals import joblib"
   ]
  },
  {
   "cell_type": "code",
   "execution_count": 2,
   "metadata": {},
   "outputs": [],
   "source": [
    "df=pd.read_csv(\"E:\\\\All Data Set\\\\Machine Learning Data Set\\\\Social_Network_Ads.csv\")\n",
    "x=df.iloc[:,2:4].values\n",
    "y=df.iloc[:,-1].values\n",
    "x_train,x_test,y_train,y_test=train_test_split(x,y,test_size=0.2,random_state=10)"
   ]
  },
  {
   "cell_type": "code",
   "execution_count": 3,
   "metadata": {},
   "outputs": [],
   "source": [
    "#Creating pipeline\n",
    "lr=Pipeline([('scaler1',StandardScaler()),\n",
    "             ('lr_classifier',LogisticRegression())])\n",
    "\n",
    "dt=Pipeline([('scaler2',StandardScaler()),\n",
    "             ('dt_classifier',DecisionTreeClassifier())])\n",
    "\n",
    "rf=Pipeline([('scaler3',StandardScaler()),\n",
    "             ('rf',RandomForestClassifier())])\n",
    "\n",
    "knn=Pipeline([('scaler4',StandardScaler()),\n",
    "             ('knn',KNeighborsClassifier())])\n",
    "\n",
    "nb=Pipeline([('scaler5',StandardScaler()),\n",
    "             ('nb',GaussianNB())])\n",
    "\n",
    "svm=Pipeline([('scaler6',StandardScaler()),\n",
    "             ('svm',SVC(kernel='linear',random_state=0))])\n",
    "\n",
    "ksvm=Pipeline([('scaler7',StandardScaler()),\n",
    "             ('ksvm',SVC(kernel=\"rbf\",random_state=0))])"
   ]
  },
  {
   "cell_type": "code",
   "execution_count": 4,
   "metadata": {},
   "outputs": [],
   "source": [
    "pipe=[lr,dt,rf,knn,nb,svm,ksvm]\n",
    "\n",
    "best_accuracy=0\n",
    "best_classifier=0\n",
    "best_pipeline=\"\"\n",
    "\n",
    "pipe_dict={0:'Logistic Regression',1:'Decision Tree Classifier',2:'Random Forest Classifier',3:'K-Nearest Neighbors',4:'Naive Bayes',5:\"Support Vector Machine\",6:\"Kernel SVM\"}"
   ]
  },
  {
   "cell_type": "code",
   "execution_count": 5,
   "metadata": {
    "scrolled": true
   },
   "outputs": [
    {
     "name": "stdout",
     "output_type": "stream",
     "text": [
      "Logistic Regression accuracy is: 0.8875\n",
      "Decision Tree Classifier accuracy is: 0.8625\n",
      "Random Forest Classifier accuracy is: 0.9\n",
      "K-Nearest Neighbors accuracy is: 0.9375\n",
      "Naive Bayes accuracy is: 0.9125\n",
      "Support Vector Machine accuracy is: 0.8875\n",
      "Kernel SVM accuracy is: 0.95\n"
     ]
    }
   ],
   "source": [
    "for i in pipe:\n",
    "    i.fit(x_train,y_train)\n",
    "\n",
    "for i,model in enumerate(pipe):\n",
    "    print(\"{} accuracy is: {}\".format(pipe_dict[i],model.score(x_test,y_test)))"
   ]
  },
  {
   "cell_type": "code",
   "execution_count": 6,
   "metadata": {},
   "outputs": [],
   "source": [
    "for i,model in enumerate(pipe):\n",
    "    if best_accuracy<model.score(x_test,y_test):\n",
    "        best_accuracy=model.score(x_test,y_test)\n",
    "        best_classifier=model\n",
    "        best_pipeline=i"
   ]
  },
  {
   "cell_type": "code",
   "execution_count": 7,
   "metadata": {},
   "outputs": [
    {
     "name": "stdout",
     "output_type": "stream",
     "text": [
      "Kernel SVM is best model with 0.95\n"
     ]
    }
   ],
   "source": [
    "print(\"{} is best model with {}\".format(pipe_dict[best_pipeline],best_accuracy))"
   ]
  },
  {
   "cell_type": "markdown",
   "metadata": {},
   "source": [
    "Here SVM give accuray of 95+ "
   ]
  }
 ],
 "metadata": {
  "kernelspec": {
   "display_name": "Python 3",
   "language": "python",
   "name": "python3"
  },
  "language_info": {
   "codemirror_mode": {
    "name": "ipython",
    "version": 3
   },
   "file_extension": ".py",
   "mimetype": "text/x-python",
   "name": "python",
   "nbconvert_exporter": "python",
   "pygments_lexer": "ipython3",
   "version": "3.7.6"
  }
 },
 "nbformat": 4,
 "nbformat_minor": 4
}
