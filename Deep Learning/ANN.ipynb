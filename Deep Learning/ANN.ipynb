{
 "cells": [
  {
   "cell_type": "markdown",
   "metadata": {},
   "source": [
    "# Artificial Neural Network "
   ]
  },
  {
   "cell_type": "markdown",
   "metadata": {},
   "source": [
    "The dataset Churn_Modelling.csv have details of bank customer. We have to train model that predic weather the person exited that bank or not."
   ]
  },
  {
   "cell_type": "code",
   "execution_count": 1,
   "metadata": {},
   "outputs": [],
   "source": [
    "#Importing Libraries\n",
    "import pandas as pd\n",
    "import numpy as np\n",
    "from sklearn.metrics import confusion_matrix\n",
    "import keras\n",
    "from keras.models import Sequential\n",
    "from keras.layers import Dense,LeakyReLU,PReLU,ELU,Dropout\n",
    "from sklearn.preprocessing import StandardScaler\n",
    "from sklearn.model_selection import train_test_split"
   ]
  },
  {
   "cell_type": "code",
   "execution_count": 2,
   "metadata": {},
   "outputs": [
    {
     "data": {
      "text/html": [
       "<div>\n",
       "<style scoped>\n",
       "    .dataframe tbody tr th:only-of-type {\n",
       "        vertical-align: middle;\n",
       "    }\n",
       "\n",
       "    .dataframe tbody tr th {\n",
       "        vertical-align: top;\n",
       "    }\n",
       "\n",
       "    .dataframe thead th {\n",
       "        text-align: right;\n",
       "    }\n",
       "</style>\n",
       "<table border=\"1\" class=\"dataframe\">\n",
       "  <thead>\n",
       "    <tr style=\"text-align: right;\">\n",
       "      <th></th>\n",
       "      <th>RowNumber</th>\n",
       "      <th>CustomerId</th>\n",
       "      <th>Surname</th>\n",
       "      <th>CreditScore</th>\n",
       "      <th>Geography</th>\n",
       "      <th>Gender</th>\n",
       "      <th>Age</th>\n",
       "      <th>Tenure</th>\n",
       "      <th>Balance</th>\n",
       "      <th>NumOfProducts</th>\n",
       "      <th>HasCrCard</th>\n",
       "      <th>IsActiveMember</th>\n",
       "      <th>EstimatedSalary</th>\n",
       "      <th>Exited</th>\n",
       "    </tr>\n",
       "  </thead>\n",
       "  <tbody>\n",
       "    <tr>\n",
       "      <th>0</th>\n",
       "      <td>1</td>\n",
       "      <td>15634602</td>\n",
       "      <td>Hargrave</td>\n",
       "      <td>619</td>\n",
       "      <td>France</td>\n",
       "      <td>Female</td>\n",
       "      <td>42</td>\n",
       "      <td>2</td>\n",
       "      <td>0.00</td>\n",
       "      <td>1</td>\n",
       "      <td>1</td>\n",
       "      <td>1</td>\n",
       "      <td>101348.88</td>\n",
       "      <td>1</td>\n",
       "    </tr>\n",
       "    <tr>\n",
       "      <th>1</th>\n",
       "      <td>2</td>\n",
       "      <td>15647311</td>\n",
       "      <td>Hill</td>\n",
       "      <td>608</td>\n",
       "      <td>Spain</td>\n",
       "      <td>Female</td>\n",
       "      <td>41</td>\n",
       "      <td>1</td>\n",
       "      <td>83807.86</td>\n",
       "      <td>1</td>\n",
       "      <td>0</td>\n",
       "      <td>1</td>\n",
       "      <td>112542.58</td>\n",
       "      <td>0</td>\n",
       "    </tr>\n",
       "    <tr>\n",
       "      <th>2</th>\n",
       "      <td>3</td>\n",
       "      <td>15619304</td>\n",
       "      <td>Onio</td>\n",
       "      <td>502</td>\n",
       "      <td>France</td>\n",
       "      <td>Female</td>\n",
       "      <td>42</td>\n",
       "      <td>8</td>\n",
       "      <td>159660.80</td>\n",
       "      <td>3</td>\n",
       "      <td>1</td>\n",
       "      <td>0</td>\n",
       "      <td>113931.57</td>\n",
       "      <td>1</td>\n",
       "    </tr>\n",
       "    <tr>\n",
       "      <th>3</th>\n",
       "      <td>4</td>\n",
       "      <td>15701354</td>\n",
       "      <td>Boni</td>\n",
       "      <td>699</td>\n",
       "      <td>France</td>\n",
       "      <td>Female</td>\n",
       "      <td>39</td>\n",
       "      <td>1</td>\n",
       "      <td>0.00</td>\n",
       "      <td>2</td>\n",
       "      <td>0</td>\n",
       "      <td>0</td>\n",
       "      <td>93826.63</td>\n",
       "      <td>0</td>\n",
       "    </tr>\n",
       "    <tr>\n",
       "      <th>4</th>\n",
       "      <td>5</td>\n",
       "      <td>15737888</td>\n",
       "      <td>Mitchell</td>\n",
       "      <td>850</td>\n",
       "      <td>Spain</td>\n",
       "      <td>Female</td>\n",
       "      <td>43</td>\n",
       "      <td>2</td>\n",
       "      <td>125510.82</td>\n",
       "      <td>1</td>\n",
       "      <td>1</td>\n",
       "      <td>1</td>\n",
       "      <td>79084.10</td>\n",
       "      <td>0</td>\n",
       "    </tr>\n",
       "  </tbody>\n",
       "</table>\n",
       "</div>"
      ],
      "text/plain": [
       "   RowNumber  CustomerId   Surname  CreditScore Geography  Gender  Age  \\\n",
       "0          1    15634602  Hargrave          619    France  Female   42   \n",
       "1          2    15647311      Hill          608     Spain  Female   41   \n",
       "2          3    15619304      Onio          502    France  Female   42   \n",
       "3          4    15701354      Boni          699    France  Female   39   \n",
       "4          5    15737888  Mitchell          850     Spain  Female   43   \n",
       "\n",
       "   Tenure    Balance  NumOfProducts  HasCrCard  IsActiveMember  \\\n",
       "0       2       0.00              1          1               1   \n",
       "1       1   83807.86              1          0               1   \n",
       "2       8  159660.80              3          1               0   \n",
       "3       1       0.00              2          0               0   \n",
       "4       2  125510.82              1          1               1   \n",
       "\n",
       "   EstimatedSalary  Exited  \n",
       "0        101348.88       1  \n",
       "1        112542.58       0  \n",
       "2        113931.57       1  \n",
       "3         93826.63       0  \n",
       "4         79084.10       0  "
      ]
     },
     "execution_count": 2,
     "metadata": {},
     "output_type": "execute_result"
    }
   ],
   "source": [
    "df=pd.read_csv(\"E:\\\\All Data Set\\\\Machine Learning Data Set\\\\Churn_Modelling.csv\")\n",
    "df.head()"
   ]
  },
  {
   "cell_type": "code",
   "execution_count": 3,
   "metadata": {},
   "outputs": [],
   "source": [
    "df=df.drop(['RowNumber','CustomerId',\"Surname\"],axis=1)\n",
    "x=df.drop('Exited',axis=1)\n",
    "\n",
    "#Changing Categorical features to label encoading\n",
    "x=pd.get_dummies(data=x,columns=['Geography','Gender'],drop_first=True)\n",
    "y=df['Exited']"
   ]
  },
  {
   "cell_type": "code",
   "execution_count": 4,
   "metadata": {},
   "outputs": [],
   "source": [
    "#Spliting dataset\n",
    "x_train,x_test,y_train,y_test=train_test_split(x,y,test_size=0.2,random_state=0)\n",
    "\n",
    "#Feature Scaling\n",
    "ss=StandardScaler()\n",
    "x_train=ss.fit_transform(x_train)\n",
    "x_test=ss.transform(x_test)"
   ]
  },
  {
   "cell_type": "code",
   "execution_count": 5,
   "metadata": {},
   "outputs": [],
   "source": [
    "classifier=Sequential()\n",
    "\n",
    "\"\"\"Add Layer one\"\"\"\n",
    "classifier.add(Dense(units=6,kernel_initializer='he_uniform',activation='relu',input_dim=11))\n",
    "classifier.add(Dropout(0.1))\n",
    "\n",
    "\"\"\"Adding layer 2nd layer\"\"\"\n",
    "classifier.add(Dense(units=6,kernel_initializer='he_uniform',activation='relu'))\n",
    "classifier.add(Dropout(0.1))\n",
    "\n",
    "\"\"\"Adding output layer\"\"\"\n",
    "classifier.add(Dense(units=1,kernel_initializer='glorot_uniform',activation='sigmoid'))\n",
    "\n",
    "classifier.compile(optimizer='adam',loss='binary_crossentropy',metrics=['accuracy'])"
   ]
  },
  {
   "cell_type": "code",
   "execution_count": 6,
   "metadata": {},
   "outputs": [
    {
     "name": "stdout",
     "output_type": "stream",
     "text": [
      "Epoch 1/25\n",
      "536/536 [==============================] - 7s 13ms/step - loss: 0.5948 - accuracy: 0.7380 - val_loss: 0.4916 - val_accuracy: 0.7970\n",
      "Epoch 2/25\n",
      "536/536 [==============================] - 2s 4ms/step - loss: 0.4953 - accuracy: 0.7938 - val_loss: 0.4594 - val_accuracy: 0.8020\n",
      "Epoch 3/25\n",
      "536/536 [==============================] - 3s 6ms/step - loss: 0.4713 - accuracy: 0.8020 - val_loss: 0.4470 - val_accuracy: 0.8031\n",
      "Epoch 4/25\n",
      "536/536 [==============================] - 2s 4ms/step - loss: 0.4558 - accuracy: 0.8074 - val_loss: 0.4362 - val_accuracy: 0.8103\n",
      "Epoch 5/25\n",
      "536/536 [==============================] - 7s 13ms/step - loss: 0.4464 - accuracy: 0.8106 - val_loss: 0.4272 - val_accuracy: 0.8111\n",
      "Epoch 6/25\n",
      "536/536 [==============================] - 12s 22ms/step - loss: 0.4321 - accuracy: 0.8169 - val_loss: 0.4191 - val_accuracy: 0.8160\n",
      "Epoch 7/25\n",
      "536/536 [==============================] - 17s 32ms/step - loss: 0.4297 - accuracy: 0.8153 - val_loss: 0.4127 - val_accuracy: 0.8186\n",
      "Epoch 8/25\n",
      "536/536 [==============================] - 12s 22ms/step - loss: 0.4197 - accuracy: 0.8188 - val_loss: 0.4071 - val_accuracy: 0.8209\n",
      "Epoch 9/25\n",
      "536/536 [==============================] - 18s 33ms/step - loss: 0.4156 - accuracy: 0.8199 - val_loss: 0.4025 - val_accuracy: 0.8247\n",
      "Epoch 10/25\n",
      "536/536 [==============================] - 12s 22ms/step - loss: 0.4145 - accuracy: 0.8162 - val_loss: 0.3995 - val_accuracy: 0.8258\n",
      "Epoch 11/25\n",
      "536/536 [==============================] - 10s 19ms/step - loss: 0.4100 - accuracy: 0.8173 - val_loss: 0.3968 - val_accuracy: 0.8228\n",
      "Epoch 12/25\n",
      "536/536 [==============================] - 12s 23ms/step - loss: 0.4008 - accuracy: 0.8196 - val_loss: 0.3930 - val_accuracy: 0.8220\n",
      "Epoch 13/25\n",
      "536/536 [==============================] - 7s 14ms/step - loss: 0.4061 - accuracy: 0.8153 - val_loss: 0.3915 - val_accuracy: 0.8247\n",
      "Epoch 14/25\n",
      "536/536 [==============================] - 13s 24ms/step - loss: 0.3963 - accuracy: 0.8203 - val_loss: 0.3884 - val_accuracy: 0.8258\n",
      "Epoch 15/25\n",
      "536/536 [==============================] - 7s 12ms/step - loss: 0.3981 - accuracy: 0.8171 - val_loss: 0.3861 - val_accuracy: 0.8262\n",
      "Epoch 16/25\n",
      "536/536 [==============================] - 7s 12ms/step - loss: 0.3971 - accuracy: 0.8207 - val_loss: 0.3846 - val_accuracy: 0.8236\n",
      "Epoch 17/25\n",
      "536/536 [==============================] - 7s 12ms/step - loss: 0.3996 - accuracy: 0.8192 - val_loss: 0.3834 - val_accuracy: 0.8273\n",
      "Epoch 18/25\n",
      "536/536 [==============================] - 7s 12ms/step - loss: 0.3974 - accuracy: 0.8160 - val_loss: 0.3817 - val_accuracy: 0.8247\n",
      "Epoch 19/25\n",
      "536/536 [==============================] - 12s 22ms/step - loss: 0.3885 - accuracy: 0.8194 - val_loss: 0.3797 - val_accuracy: 0.8247\n",
      "Epoch 20/25\n",
      "536/536 [==============================] - 12s 22ms/step - loss: 0.3950 - accuracy: 0.8173 - val_loss: 0.3789 - val_accuracy: 0.8266\n",
      "Epoch 21/25\n",
      "536/536 [==============================] - 12s 22ms/step - loss: 0.3934 - accuracy: 0.8182 - val_loss: 0.3780 - val_accuracy: 0.8243\n",
      "Epoch 22/25\n",
      "536/536 [==============================] - 1s 3ms/step - loss: 0.3927 - accuracy: 0.8201 - val_loss: 0.3781 - val_accuracy: 0.8270\n",
      "Epoch 23/25\n",
      "536/536 [==============================] - 1s 3ms/step - loss: 0.3885 - accuracy: 0.8181 - val_loss: 0.3767 - val_accuracy: 0.8273\n",
      "Epoch 24/25\n",
      "536/536 [==============================] - 12s 22ms/step - loss: 0.3914 - accuracy: 0.8321 - val_loss: 0.3772 - val_accuracy: 0.8448\n",
      "Epoch 25/25\n",
      "536/536 [==============================] - 18s 33ms/step - loss: 0.3872 - accuracy: 0.8419 - val_loss: 0.3757 - val_accuracy: 0.8482\n"
     ]
    }
   ],
   "source": [
    "#Fitting the ANN to training set\n",
    "model=classifier.fit(x_train,y_train,batch_size=10,epochs=25,validation_split=0.33)\n",
    "\n",
    "#Prediction\n",
    "y_pred=classifier.predict(x_test)\n",
    "y_pred=(y_pred>0.5)"
   ]
  },
  {
   "cell_type": "code",
   "execution_count": 9,
   "metadata": {},
   "outputs": [
    {
     "data": {
      "text/plain": [
       "array([[1539,   56],\n",
       "       [ 230,  175]], dtype=int64)"
      ]
     },
     "execution_count": 9,
     "metadata": {},
     "output_type": "execute_result"
    }
   ],
   "source": [
    "cm=confusion_matrix(y_test, y_pred)\n",
    "cm"
   ]
  },
  {
   "cell_type": "code",
   "execution_count": 12,
   "metadata": {},
   "outputs": [
    {
     "name": "stdout",
     "output_type": "stream",
     "text": [
      "Accuracy of ANN model:  85.7 %\n"
     ]
    }
   ],
   "source": [
    "print(\"Accuracy of ANN model: \",(1539+175)/(1539+56+230+175)*100,\"%\")"
   ]
  }
 ],
 "metadata": {
  "kernelspec": {
   "display_name": "Python 3",
   "language": "python",
   "name": "python3"
  },
  "language_info": {
   "codemirror_mode": {
    "name": "ipython",
    "version": 3
   },
   "file_extension": ".py",
   "mimetype": "text/x-python",
   "name": "python",
   "nbconvert_exporter": "python",
   "pygments_lexer": "ipython3",
   "version": "3.7.6"
  }
 },
 "nbformat": 4,
 "nbformat_minor": 4
}
